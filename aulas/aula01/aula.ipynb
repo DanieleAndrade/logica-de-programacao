{
 "cells": [
  {
   "cell_type": "markdown",
   "metadata": {},
   "source": [
    "# Lógica de Programação\n",
    "\n",
    "# Aula 01 - Introdução\n",
    "\n",
    "## Objetivos da aula:\n",
    "\n",
    "+ Conhecer o professor\n",
    "+ Conhecer o conteúdo do curso\n",
    "+ Conhecer a metodologia de ensino utilizada\n",
    "+ Aprender os conceitos básicos de lógica\n",
    "+ Aprender o que é um algoritmo\n",
    "+ Criar algoritmos simples"
   ]
  },
  {
   "cell_type": "markdown",
   "metadata": {},
   "source": [
    "## Como o conteúdo será ensinado?\n",
    "\n",
    "O conteúdo será ensinado através de vídeo aulas, e conteúdos disponibilizados no repositório do curso no [github](https://github.com/VaiNaWeb/logica-de-programacao).\n",
    "\n",
    "#### Linguagens utilizadas\n",
    "Vamos usar duas linguagens de programação neste curso, sendo elas: `Python` e `Javascript`.\n",
    "\n",
    "#### Estrutura do github\n",
    "Todas as aulas no github terão a seguinte estrutura:\n",
    "\n",
    "```\n",
    "aulas/\n",
    "  aula01/\n",
    "    aula.ipynb\n",
    "    aula.html\n",
    "    desafios.ipynb\n",
    "    desafios.html\n",
    "    exercicios.ipynb\n",
    "    exercicios.html\n",
    "  aula02/\n",
    "  ...\n",
    "```\n",
    "\n",
    "Sendo que:\n",
    "\n",
    "+ O arquivo `aula.ipynb` contém o conteúdo da aula em vídeo, assim como links de referência à qualquer conteúdo externo.\n",
    "+ O arquivo `desafios.ipynb` contém desafios para que o aluno teste o seu aprendizado.\n",
    "+ O arquivo `exercicios.ipynb` contém exercícios de fixação.\n",
    "\n",
    "Observações: \n",
    "1. As aulas terão exemplos tanto em `Python` como em `Javascript`. Os exercícios podem ser feitos com a linguagem que o aluno preferir.\n",
    "2. Os arquivos `.html` servem apenas para renderização no github\n",
    "3. A maioria dos exercícios e desafios terão um testador informando se a resposta está correta, ou um exemplo de solução.\n",
    "4. Dúvidas sobre os exercícios e os desafios poderão ser tiradas com o professor no Workplace do VaiNaWeb\n",
    "\n"
   ]
  },
  {
   "cell_type": "markdown",
   "metadata": {},
   "source": [
    "## O que é Lógica?\n",
    "\n",
    "\"Lógica de Programação é a técnica de desenvolver sequências lógicas para atingir um determinado objetivo. Essas sequências lógicas são adaptadas para linguagem de computador pelo programador a fim de produzir software.\""
   ]
  },
  {
   "cell_type": "markdown",
   "metadata": {},
   "source": [
    "### Por que aprender lógica de programação é importante?\n",
    "\n",
    "A lógica é o princípio básico de programação. Ter uma boa lógica facilita o desenvolvimento de qualquer software.\n",
    "\n",
    "As vantagens de aprender lógica são:\n",
    "\n",
    "+ Facilita o aprendizado de qualquer linguagem de programação\n",
    "+ Exercitar o raciocínio lógico te faz pensar mais rápido na solução\n",
    "+ Uma boa lógica encontra soluções melhores\n",
    "+ Faz bem para o cérebro"
   ]
  },
  {
   "cell_type": "markdown",
   "metadata": {},
   "source": [
    "## O que é um algoritmo?\n",
    "\n",
    "Segundo o dicionário, algoritmo é:\n",
    "\n",
    "> \"Conjunto das regras e procedimentos lógicos perfeitamente definidos que levam à solução de um problema em um número finito de etapas.\"\n",
    "\n",
    "Um algoritmo:\n",
    "\n",
    "1. É um conjunto de regras\n",
    "2. Segue uma sequência lógica\n",
    "3. Soluciona um problema\n",
    "4. Tem um número finito de etapas"
   ]
  },
  {
   "cell_type": "markdown",
   "metadata": {},
   "source": [
    "**Podemos pensar em um algoritmo como uma receita de bolo**\n",
    "\n",
    "Imagine que o computador precisa fazer um bolo. Como você ensinaria ele à fazer isso? Provavelmente você daria uma receita.\n",
    "\n",
    "O algoritmo é a receita para a solução do problema.\n",
    "\n",
    "*Lembre-se: O computador não faz nada sozinho, ele deve ser ensinado à solucionar o problema através de um algoritmo. Em outras palavras, o computador é burro!*"
   ]
  },
  {
   "cell_type": "markdown",
   "metadata": {},
   "source": [
    "## Como escrevemos um algoritmo?\n",
    "\n",
    "Para escrever algoritmos, usamos as linguagens de programação. São uma espécie de idioma que o computador entende.\n",
    "\n",
    "Você fala com um brasileiro em português, com o americano em inglês, com o alemão em alemão, e com o computador?\n",
    "\n",
    "Falamos com o computador através de linguagens que ele entende, as linguagens de programação.\n",
    "\n",
    "Neste curso usaremos as linguagens: `Python` e `Javascript`.\n",
    "\n",
    "**Obs: Nas aulas iniciais de algoritmos não usaremos nenhuma linguagem de programação, apenas exercitaremos nossa lógica usando o português**"
   ]
  },
  {
   "cell_type": "markdown",
   "metadata": {},
   "source": [
    "### Nosso primeiro algoritmo\n",
    "\n",
    "Lembra que o algoritmo é uma \"receita\"?\n",
    "\n",
    "Vamos ensinar o computador a fazer um bolo.\n",
    "\n",
    "O que precisamos para esse bolo? Quais os ingredientes?\n",
    "\n",
    "+ Farinha\n",
    "+ Ovos\n",
    "+ Açúcar\n",
    "+ Leite\n",
    "\n",
    "Agora, precisamos descrever para o computador o que ele deve fazer, lembre-se que o algoritmo é uma **sequência** lógica. Se algo for feito fora de sequência nosso bolo irá dar errado.\n",
    "\n",
    "Vamos lá:\n",
    "\n",
    "1. Coloque os ingredientes sobre a mesa\n",
    "2. Coloque um pote sobre a mesa para preparar a massa\n",
    "3. Abra o pacote de farinha\n",
    "4. Coloque 1 xícara de farinha dentro do pote\n",
    "5. Quebre os ovos dentro do pote\n",
    "6. Misture um pouco a farinha e os ovos\n",
    "7. Coloque 1/2 xícara de açúcar no pote\n",
    "8. Adicione 2 copos de leite ao pote\n",
    "9. Misture a massa até ficar no ponto\n",
    "10. Unte a forma com manteiga\n",
    "11. Pegue o pote e despeje a massa na forma\n",
    "12. Abra o forno e coloque a forma\n",
    "13. Feche o forno e aguarde meia hora\n",
    "14. Desligue o forno, seu bolo está pronto!\n",
    "\n",
    "Simples não? Com alguns passos fizemos um bolo!"
   ]
  },
  {
   "cell_type": "markdown",
   "metadata": {},
   "source": [
    "![](assets/bolo.jpg)"
   ]
  },
  {
   "cell_type": "markdown",
   "metadata": {},
   "source": [
    "### Exercitando alguns algoritmos\n",
    "\n",
    "Vamos exercitar alguns algoritmos.\n",
    "\n",
    "Primeiro, vamos programar um robô para trocar uma lâmpada queimada. Os passos seriam:\n",
    "\n",
    "1. Pegue uma escada\n",
    "2. Coloque a escada abaixo da lâmpada\n",
    "3. Suba na escada\n",
    "4. Retire a lâmpada queimada\n",
    "5. Desça da escada\n",
    "6. Pegue a lâmpada nova\n",
    "7. Suba na escada\n",
    "8. Coloque a lâmpada nova\n",
    "9. Desça da escada\n",
    "10. Jogue a lâmpada queimada no lixo\n",
    "11. Guarde a escada\n",
    "\n",
    "Pronto! A luz está de volta!\n",
    "\n",
    "Que tal aproveitarmos nosso robôzinho e pedir pra ele lavar a forma que fizêmos o bolo? Vamos lá:\n",
    "\n",
    "1. Vá até a cozinha\n",
    "2. Pegue a forma na mesa\n",
    "3. Coloque a forma na pia\n",
    "4. Abra a torneira e deixe a forma umedecer\n",
    "5. Feche a torneira\n",
    "6. Ensaboe a forma e esfregue bem\n",
    "7. Abra a torneira\n",
    "8. Enxágue a forma\n",
    "9. Feche a torneira\n",
    "10. Guarde a forma"
   ]
  },
  {
   "cell_type": "markdown",
   "metadata": {},
   "source": [
    "## Como o computador interpreta um algoritmo?\n",
    "\n",
    "O computador nada mais é que uma grande calculadora. Tudo que ele faz são operações matemáticas.\n",
    "\n",
    "Sendo assim o computador sempre irá seguir o mesmo princípio para solucionar qualquer problema: `entrada -> processamento -> saída`\n",
    "\n",
    "![](assets/input_process.png)\n",
    "\n",
    "Desta forma, um algoritmo sempre será interpretado como o conjunto de instruções necessárias para fazer o **processamento**."
   ]
  },
  {
   "cell_type": "markdown",
   "metadata": {},
   "source": [
    "## Outras formas de representar algoritmos\n",
    "\n",
    "Existem outras formas de representar um algoritmo. Uma delas é o fluxograma, que é uma forma mais visual.\n",
    "\n",
    "O fluxograma é um diagrama de blocos, onde cada bloco representa uma etapa do processamento.\n",
    "\n",
    "Vamos fazer um fluxograma para exibir a mensagem \"Olá mundo!\" na tela:\n",
    "\n",
    "![](assets/diagrama1.jpg)\n",
    "\n",
    "Uma ótima ferramenta para desenhar fluxogramas online é o [draw.io](https://www.draw.io)"
   ]
  },
  {
   "cell_type": "markdown",
   "metadata": {},
   "source": [
    "## Até a próxima aula!"
   ]
  },
  {
   "cell_type": "markdown",
   "metadata": {},
   "source": [
    "> “Aprender é a única coisa que a mente nunca se cansa, nunca tem medo e nunca se arrepende”"
   ]
  }
 ],
 "metadata": {
  "kernelspec": {
   "display_name": "Python 3",
   "language": "python",
   "name": "python3"
  },
  "language_info": {
   "codemirror_mode": {
    "name": "ipython",
    "version": 3
   },
   "file_extension": ".py",
   "mimetype": "text/x-python",
   "name": "python",
   "nbconvert_exporter": "python",
   "pygments_lexer": "ipython3",
   "version": "3.6.2"
  }
 },
 "nbformat": 4,
 "nbformat_minor": 2
}
