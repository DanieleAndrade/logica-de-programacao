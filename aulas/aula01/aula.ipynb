{
 "cells": [
  {
   "cell_type": "markdown",
   "metadata": {},
   "source": [
    "# Lógica de Programação\n",
    "\n",
    "# Aula 01 (Introdução)\n",
    "\n",
    "## Objetivos da aula:\n",
    "\n",
    "+ Conhecer o professor\n",
    "+ Aprender os conceitos básicos de lógica\n",
    "+ Conhecer a grade curricular do curso\n",
    "+ Conhecer a metodologia de ensino utilizada"
   ]
  },
  {
   "cell_type": "markdown",
   "metadata": {},
   "source": [
    "### O que é Lógica?\n",
    "\n",
    "\"Lógica de Programação é a técnica de desenvolver sequências lógicas para atingir um determinado objetivo. Essas sequências lógicas são adaptadas para linguagem de computador pelo programador a fim de produzir software.\""
   ]
  },
  {
   "cell_type": "markdown",
   "metadata": {},
   "source": [
    "### Por que aprender lógica de programação é importante?\n",
    "\n",
    "A lógica é o princípio básico de programação. Ter uma boa lógica facilita o desenvolvimento de qualquer software.\n",
    "\n",
    "As vatangens de aprender lógica são:\n",
    "\n",
    "+ Facilita o aprendizado de qualquer linguagem de programação\n",
    "+ Exercitar o raciocínio lógico te faz pensar mais rápido na solução\n",
    "+ Uma boa lógica encontra soluções melhores\n",
    "+ Faz bem para o cérebro"
   ]
  },
  {
   "cell_type": "markdown",
   "metadata": {},
   "source": [
    "### O que vamos aprender neste curso?\n",
    "\n",
    "O curso será composto por 15 aulas, sendo elas:\n",
    "\n",
    "+ Aula 01 - Introdução\n",
    "\n",
    "+ Aula 02 - Algoritmos, parte 1\n",
    "\n",
    "+ Aula 03 - Algoritmos, parte 2\n",
    "\n",
    "+ Aula 04 - Algoritmos, parte 3\n",
    "\n",
    "+ Aula 05 - Variáveis\n",
    "\n",
    "+ Aula 06 - Operadores Matemáticos\n",
    "\n",
    "+ Aula 07 - Estruturas Condicionais\n",
    "\n",
    "+ Aula 08 - Operadores Lógicos\n",
    "\n",
    "+ Aula 09 - Estruturas de Repetição\n",
    "\n",
    "+ Aula 10 - Funções\n",
    "\n",
    "+ Aula 11 - Estruturas básicas de dados\n",
    "\n",
    "+ Aula 12 - Introdução à Orientação à Objetos\n",
    "\n",
    "+ Aula 13 - Classes e Atributos\n",
    "\n",
    "+ Aula 14 - Métodos\n",
    "\n",
    "+ Aula 15 - Herança\n",
    "\n",
    "+ Aula 16 - Construindo um sistema completo, parte 1\n",
    "\n",
    "+ Aula 17 - Construindo um sistema completo, parte 2\n",
    "\n",
    "+ Aula 18 - Construindo um sistema completo, parte 3\n",
    "\n",
    "+ Aula 19 - Construindo um sistema completo, parte 4\n",
    "\n",
    "+ Aula 20 - Construindo um sistema completo, parte 5"
   ]
  },
  {
   "cell_type": "markdown",
   "metadata": {},
   "source": [
    "### Como o conteúdo será ensinado?\n",
    "\n",
    "O conteúdo será ensinado através de video aulas, e conteúdos disponibilizados no reposítorio do curso no [github](https://github.com/VaiNaWeb/logica-de-programacao).\n",
    "\n",
    "#### Linguagens utilizadas\n",
    "Vamos usar duas linguagens de programação neste curso, sendo elas: `Python` e `Javascript`.\n",
    "\n",
    "#### Estrutura do github\n",
    "Todas as aulas no github terão a seguinte estrutura:\n",
    "\n",
    "```\n",
    "aulas/\n",
    "  aula01/\n",
    "    aula.ipynb\n",
    "    aula.html\n",
    "    desafios.ipynb\n",
    "    desafios.html\n",
    "    exercicios.ipynb\n",
    "    exercicios.html\n",
    "  aula02/\n",
    "  ...\n",
    "```\n",
    "\n",
    "Sendo que:\n",
    "\n",
    "+ O arquivo `aula.ipynb` contém o conteúdo da aula em video, assim como links de referência à qualquer conteúdo externo.\n",
    "+ O arquivo `desafios.ipynb` contém desafios para que o aluno teste o seu aprendizado.\n",
    "+ O arquivo `exercicios.ipynb` contém exercícios de fixação.\n",
    "\n",
    "Observações: \n",
    "1. As aulas terão exemplos tanto em `Python` como em `Javascript`. Os exercícios podem ser feitos com a linguagem que o aluno preferir.\n",
    "2. Os arquivos `.html` servem apenas para redenrização no github\n",
    "3. A maioria dos exercícios e desafios terão um testador informando se a resposta está correta, ou um exemplo de solução.\n",
    "4. Dúvidas sobre os exercícios e os desafios poderão ser tiradas com o professor no Workplace do VaiNaWeb\n",
    "\n"
   ]
  },
  {
   "cell_type": "markdown",
   "metadata": {},
   "source": [
    "## Até a próxima aula!"
   ]
  },
  {
   "cell_type": "markdown",
   "metadata": {},
   "source": [
    "> “Aprender é a única coisa que a mente nunca se cansa, nunca tem medo e nunca se arrepende”"
   ]
  }
 ],
 "metadata": {
  "kernelspec": {
   "display_name": "Python 3",
   "language": "python",
   "name": "python3"
  },
  "language_info": {
   "codemirror_mode": {
    "name": "ipython",
    "version": 3
   },
   "file_extension": ".py",
   "mimetype": "text/x-python",
   "name": "python",
   "nbconvert_exporter": "python",
   "pygments_lexer": "ipython3",
   "version": "3.6.2"
  }
 },
 "nbformat": 4,
 "nbformat_minor": 2
}
