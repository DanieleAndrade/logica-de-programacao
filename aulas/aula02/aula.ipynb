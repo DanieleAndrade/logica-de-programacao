{
 "cells": [
  {
   "cell_type": "markdown",
   "metadata": {},
   "source": [
    "# Lógica de Programação\n",
    "\n",
    "# Aula 02 - Algoritmos (Tomadas de decisão)\n",
    "\n",
    "## Objetivos da aula:\n",
    "\n",
    "+ Exercitar algoritmos\n",
    "+ Aprender sobre tomada de decisão"
   ]
  },
  {
   "cell_type": "markdown",
   "metadata": {},
   "source": [
    "## Estruturas do fluxograma\n",
    "\n",
    "Como vimos na última aula, podemos utilizar fluxogramas para representar algoritmos de forma visual.\n",
    "\n",
    "O Fluxograma possui as seguintes estruturas:\n",
    "\n",
    "![](assets/estruturas.jpg)"
   ]
  },
  {
   "cell_type": "markdown",
   "metadata": {},
   "source": [
    "## Tomadas de decisão\n",
    "\n",
    "Nos exemplos que vimos até agora, nossos programas apenas seguiam uma sequência lógica do início ao fim. Porém, em vários momentos, programas precisarão tomar decisões e escolherem caminhos para seguir.\n",
    "\n",
    "Por exemplo: Imagine que você precisa programar um robô para fazer as compras, mas antes, ele precisa verificar se não está chovendo, pois se estiver, ele precisará de um guarda-chuva.\n",
    "\n",
    "Como poderíamos fazer isso?\n",
    "\n",
    "Nosso robô precisa tomar uma decisão baseada na condição de estar ou não chovendo.\n",
    "\n",
    "Vamos representar este algoritmo em um fluxograma:\n",
    "\n",
    "![](assets/chovendo.jpg)"
   ]
  },
  {
   "cell_type": "markdown",
   "metadata": {},
   "source": [
    "Como podemos ver, o programa pode seguir \"caminhos\" diferentes baseado na decisão que ele tiver de tomar.\n",
    "\n",
    "Tomadas de decisão ocorrem o tempo todo em qualquer tipo de programa, pois na maioria das vezes, teremos condições específicas para uma determinada coisa acontecer ou tarefa ser executada."
   ]
  },
  {
   "cell_type": "markdown",
   "metadata": {},
   "source": [
    "**Curiosidade**: Exite uma piada sobre tomada de decisão:\n",
    "> A mulher disse para o marido programador:\n",
    ">\n",
    "> \"Amor, vá ao mercado e compre uma caixa de leite. Se tiver ovos, por favor, traz 6.\"\n",
    ">\n",
    "> O Programador voltou do supermercado com 6 caixas de leite e nenhum ovo."
   ]
  },
  {
   "cell_type": "markdown",
   "metadata": {},
   "source": [
    "Traduzindo a piada para um fluxograma, teríamos:\n",
    "\n",
    "![](assets/leite_ovo.jpg)"
   ]
  },
  {
   "cell_type": "markdown",
   "metadata": {},
   "source": [
    "## Até a próxima aula!"
   ]
  },
  {
   "cell_type": "markdown",
   "metadata": {},
   "source": [
    "> \"Somente o desconhecido aterroriza os homens. Mas quando um homem encara o desconhecido, aquele terror torna-se conhecido.\" Antoine de Saint-Exupéry"
   ]
  }
 ],
 "metadata": {
  "kernelspec": {
   "display_name": "Python 3",
   "language": "python",
   "name": "python3"
  },
  "language_info": {
   "codemirror_mode": {
    "name": "ipython",
    "version": 3
   },
   "file_extension": ".py",
   "mimetype": "text/x-python",
   "name": "python",
   "nbconvert_exporter": "python",
   "pygments_lexer": "ipython3",
   "version": "3.6.2"
  }
 },
 "nbformat": 4,
 "nbformat_minor": 2
}
