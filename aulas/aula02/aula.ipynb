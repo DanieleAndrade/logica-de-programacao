{
 "cells": [
  {
   "cell_type": "markdown",
   "metadata": {},
   "source": [
    "# Lógica de Programação\n",
    "\n",
    "# Aula 02 (Algoritmos, parte 1)\n",
    "\n",
    "## Objetivos da aula:\n",
    "\n",
    "+ Aprender o que é um algoritmo\n",
    "+ Criar algoritmos simples\n",
    "+ Exercitar o raciocínio lógico"
   ]
  },
  {
   "cell_type": "markdown",
   "metadata": {},
   "source": [
    "## O que é um algoritmo?\n",
    "\n",
    "Segundo o dicionário, algoritmo é:\n",
    "\n",
    "> substantivo masculino\n",
    "\n",
    "> 1. [mat] sequência finita de regras, raciocínios ou operações que, aplicada a um número finito de dados, permite solucionar classes semelhantes de problemas.\n",
    "> 2. [inf] conjunto das regras e procedimentos lógicos perfeitamente definidos que levam à solução de um problema em um número finito de etapas.\n",
    "\n",
    "Vamos ficar com a definição da informática, a número 2.\n",
    "\n",
    "Um algoritmo:\n",
    "\n",
    "1. É um conjunto de regras\n",
    "2. Segue uma sequência lógica\n",
    "3. Solucionam um problema\n",
    "4. Tem um número finito de etapas"
   ]
  },
  {
   "cell_type": "markdown",
   "metadata": {},
   "source": [
    "**Podemos pensar em um algoritmo como uma receita de bolo**\n",
    "\n",
    "Imagine que o computador precisa fazer um bolo. Como você ensinaria ele à fazer isso? Provavelmente você daria uma receita.\n",
    "\n",
    "O algoritmo é a receita para a solução do problema.\n",
    "\n",
    "*Lembre-se: O computador não faz nada sozinho, ele deve ser ensinado à solucionar o problema através de um algoritmo. Em outras palavras, o computador é burro!*"
   ]
  },
  {
   "cell_type": "markdown",
   "metadata": {},
   "source": [
    "## Como escrevemos um algoritmo?\n",
    "\n",
    "Para escrever algoritmos, usamos as linguagens de programação. São uma espécie de idioma que o computador entende.\n",
    "\n",
    "Você fala com um brasileiro em português, com o americano em inglês, com o alemão em alemão, e com o computador?\n",
    "\n",
    "Falamos com o computador através de linguagens que ele entende, as linguagens de programação.\n",
    "\n",
    "Neste curso usaremos as linguagens: `Python` e `Javascript`.\n",
    "\n",
    "**Obs: Nas aulas iniciais de algoritmos não usaremos nenhuma linguagem de programação, apenas exercitaremos nossa lógica usando o português**"
   ]
  },
  {
   "cell_type": "markdown",
   "metadata": {},
   "source": [
    "## Nosso primeiro algoritmo\n",
    "\n",
    "Lembra que o algoritmo é uma \"receita\"?\n",
    "\n",
    "Vamos ensinar o computador à fazer um bolo.\n",
    "\n",
    "O que precisamos para esse bolo? Quais os ingredientes?\n",
    "\n",
    "+ Farinha\n",
    "+ Ovos\n",
    "+ Açúcar\n",
    "+ Leite\n",
    "\n",
    "Agora, precisamos descrever para o computador o que ele deve fazer, lembre-se que o algoritmo é uma **sequência** lógica. Se algo for feito fora de sequência nosso bolo irá dar errado.\n",
    "\n",
    "Vamos lá:\n",
    "\n",
    "1. Coloque os ingredientes sobre a mesa\n",
    "2. Coloque um pote sobre a mesa para preparar a massa\n",
    "3. Abra o pacote de farinha\n",
    "4. Coloque 1 xícara de farinha dentro do pote\n",
    "5. Quebre os ovos dentro do pote\n",
    "6. Misture um pouco a farinha e os ovos\n",
    "7. Coloque 1/2 xícara de açúcar no pote\n",
    "8. Adicione 2 copos de leite ao pote\n",
    "9. Misture a massa até ficar no ponto\n",
    "10. Unte a forma com manteiga\n",
    "11. Pegue o pote e despeje a massa na forma\n",
    "12. Abra o forno e coloque a forma\n",
    "13. Feche o forno e aguarde meia hora\n",
    "14. Desligue o forno, seu bolo está pronto!\n",
    "\n",
    "Simples não? Com alguns passos fizemos um bolo!"
   ]
  },
  {
   "cell_type": "markdown",
   "metadata": {},
   "source": [
    "![](http://s.glbimg.com/po/rc/media/2015/06/23/12_54_11_204_bolo.jpg)"
   ]
  },
  {
   "cell_type": "markdown",
   "metadata": {},
   "source": [
    "## Exercitando alguns algoritmos\n",
    "\n",
    "Vamos exercitar alguns algoritmos.\n",
    "\n",
    "Primeiro, vamos programar um robô para trocar uma lâmpada queimada. Os passos seriam:\n",
    "\n",
    "1. Pegue uma escada\n",
    "2. Coloque a escada embaixo da lâmpada\n",
    "3. Suba na escada\n",
    "4. Retire a lâmpada queimada\n",
    "5. Desça da escada\n",
    "6. Pegue a lâmpada nova\n",
    "7. Suba na escada\n",
    "8. Coloque a lâmpada nova\n",
    "9. Desça da escada\n",
    "10. Jogue a lâmpada queimada no lixo\n",
    "11. Guarde a escada\n",
    "\n",
    "Pronto! A luz está de volta!\n",
    "\n",
    "Que tal aproveitarmos nosso robôzinho e pedir pra ele lavar a forma que fizêmos o bolo? Vamos lá:\n",
    "\n",
    "1. Vá até a cozinha\n",
    "2. Pegue a forma na mesa\n",
    "3. Coloque a forma na pia\n",
    "4. Abra a torneira e deixe a forma umedecer\n",
    "5. Feche a torneira\n",
    "6. Ensaboe a forma e esfregue bem\n",
    "7. Abra a torneira\n",
    "8. Enxágue a forma\n",
    "9. Fehce a torneira\n",
    "10. Guarde a forma"
   ]
  },
  {
   "cell_type": "markdown",
   "metadata": {},
   "source": [
    "## Agora é com você!\n",
    "\n",
    "Abra os exercícios desta aula e faça da maneira que achar melhor. Pode escrever num pedaço de papel, ou digitar no computador. A idéia é exercitar o seu pensamento lógico!\n",
    "\n",
    "**Lembre-se de fazer também os desafios para reforçar ainda mais seu aprendizado!!**"
   ]
  },
  {
   "cell_type": "markdown",
   "metadata": {},
   "source": [
    "## Até a próxima aula!"
   ]
  },
  {
   "cell_type": "markdown",
   "metadata": {},
   "source": [
    "> \"Somente o desconhecido aterroriza os homens. Mas quando um homem encara o desconhecido, aquele terror torna-se conhecido.\" Antoine de Saint-Exupéry"
   ]
  }
 ],
 "metadata": {
  "kernelspec": {
   "display_name": "Python 3",
   "language": "python",
   "name": "python3"
  },
  "language_info": {
   "codemirror_mode": {
    "name": "ipython",
    "version": 3
   },
   "file_extension": ".py",
   "mimetype": "text/x-python",
   "name": "python",
   "nbconvert_exporter": "python",
   "pygments_lexer": "ipython3",
   "version": "3.6.2"
  }
 },
 "nbformat": 4,
 "nbformat_minor": 2
}
